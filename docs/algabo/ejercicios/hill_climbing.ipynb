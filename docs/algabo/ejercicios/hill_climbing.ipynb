{
 "cells": [
  {
   "cell_type": "code",
   "execution_count": null,
   "id": "58ff1a86",
   "metadata": {},
   "outputs": [],
   "source": [
    "def HillClimbing(f, s):\n",
    "    mejor = s\n",
    "    mejor_val = f(s)\n",
    "    for v in vecinos:\n",
    "        "
   ]
  }
 ],
 "metadata": {
  "language_info": {
   "name": "python"
  }
 },
 "nbformat": 4,
 "nbformat_minor": 5
}

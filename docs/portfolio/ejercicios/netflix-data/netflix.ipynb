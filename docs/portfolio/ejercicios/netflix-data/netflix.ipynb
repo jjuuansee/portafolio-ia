import kagglehub
import pandas as pd
import numpy as np
import matplotlib.pyplot as plt
import seaborn as sns

# Download latest version
path = kagglehub.dataset_download("shivamb/netflix-shows")

print("Path to dataset files:", path)

# Configurar el estilo de visualizaciones
plt.style.use('_______')  # establecer estilo visual (ej: 'default', 'seaborn', 'classic')
sns.set_palette("_______")  # definir paleta de colores (ej: 'husl', 'Set1', 'viridis')
plt.rcParams['figure.figsize'] = (10, 6)  # tamaño por defecto

print("✅ Setup completo!")